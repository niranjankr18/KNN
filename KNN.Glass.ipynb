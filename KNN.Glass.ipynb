{
 "cells": [
  {
   "cell_type": "code",
   "execution_count": 2,
   "id": "9d6aef09",
   "metadata": {},
   "outputs": [],
   "source": [
    "import pandas as pd\n",
    "import numpy as np\n",
    "from sklearn.model_selection import KFold\n",
    "from sklearn.model_selection import cross_val_score\n",
    "from sklearn.neighbors import KNeighborsClassifier\n",
    "from sklearn.model_selection import train_test_split\n",
    "from sklearn.metrics import accuracy_score,classification_report\n",
    "import warnings\n",
    "warnings.filterwarnings('ignore')\n"
   ]
  },
  {
   "cell_type": "code",
   "execution_count": 3,
   "id": "99fd6675",
   "metadata": {},
   "outputs": [],
   "source": [
    "df1=pd.read_csv(\"glass.csv\")"
   ]
  },
  {
   "cell_type": "code",
   "execution_count": 4,
   "id": "101b3b09",
   "metadata": {},
   "outputs": [
    {
     "data": {
      "text/html": [
       "<div>\n",
       "<style scoped>\n",
       "    .dataframe tbody tr th:only-of-type {\n",
       "        vertical-align: middle;\n",
       "    }\n",
       "\n",
       "    .dataframe tbody tr th {\n",
       "        vertical-align: top;\n",
       "    }\n",
       "\n",
       "    .dataframe thead th {\n",
       "        text-align: right;\n",
       "    }\n",
       "</style>\n",
       "<table border=\"1\" class=\"dataframe\">\n",
       "  <thead>\n",
       "    <tr style=\"text-align: right;\">\n",
       "      <th></th>\n",
       "      <th>RI</th>\n",
       "      <th>Na</th>\n",
       "      <th>Mg</th>\n",
       "      <th>Al</th>\n",
       "      <th>Si</th>\n",
       "      <th>K</th>\n",
       "      <th>Ca</th>\n",
       "      <th>Ba</th>\n",
       "      <th>Fe</th>\n",
       "      <th>Type</th>\n",
       "    </tr>\n",
       "  </thead>\n",
       "  <tbody>\n",
       "    <tr>\n",
       "      <th>0</th>\n",
       "      <td>1.52101</td>\n",
       "      <td>13.64</td>\n",
       "      <td>4.49</td>\n",
       "      <td>1.10</td>\n",
       "      <td>71.78</td>\n",
       "      <td>0.06</td>\n",
       "      <td>8.75</td>\n",
       "      <td>0.0</td>\n",
       "      <td>0.0</td>\n",
       "      <td>1</td>\n",
       "    </tr>\n",
       "    <tr>\n",
       "      <th>1</th>\n",
       "      <td>1.51761</td>\n",
       "      <td>13.89</td>\n",
       "      <td>3.60</td>\n",
       "      <td>1.36</td>\n",
       "      <td>72.73</td>\n",
       "      <td>0.48</td>\n",
       "      <td>7.83</td>\n",
       "      <td>0.0</td>\n",
       "      <td>0.0</td>\n",
       "      <td>1</td>\n",
       "    </tr>\n",
       "    <tr>\n",
       "      <th>2</th>\n",
       "      <td>1.51618</td>\n",
       "      <td>13.53</td>\n",
       "      <td>3.55</td>\n",
       "      <td>1.54</td>\n",
       "      <td>72.99</td>\n",
       "      <td>0.39</td>\n",
       "      <td>7.78</td>\n",
       "      <td>0.0</td>\n",
       "      <td>0.0</td>\n",
       "      <td>1</td>\n",
       "    </tr>\n",
       "    <tr>\n",
       "      <th>3</th>\n",
       "      <td>1.51766</td>\n",
       "      <td>13.21</td>\n",
       "      <td>3.69</td>\n",
       "      <td>1.29</td>\n",
       "      <td>72.61</td>\n",
       "      <td>0.57</td>\n",
       "      <td>8.22</td>\n",
       "      <td>0.0</td>\n",
       "      <td>0.0</td>\n",
       "      <td>1</td>\n",
       "    </tr>\n",
       "    <tr>\n",
       "      <th>4</th>\n",
       "      <td>1.51742</td>\n",
       "      <td>13.27</td>\n",
       "      <td>3.62</td>\n",
       "      <td>1.24</td>\n",
       "      <td>73.08</td>\n",
       "      <td>0.55</td>\n",
       "      <td>8.07</td>\n",
       "      <td>0.0</td>\n",
       "      <td>0.0</td>\n",
       "      <td>1</td>\n",
       "    </tr>\n",
       "  </tbody>\n",
       "</table>\n",
       "</div>"
      ],
      "text/plain": [
       "        RI     Na    Mg    Al     Si     K    Ca   Ba   Fe  Type\n",
       "0  1.52101  13.64  4.49  1.10  71.78  0.06  8.75  0.0  0.0     1\n",
       "1  1.51761  13.89  3.60  1.36  72.73  0.48  7.83  0.0  0.0     1\n",
       "2  1.51618  13.53  3.55  1.54  72.99  0.39  7.78  0.0  0.0     1\n",
       "3  1.51766  13.21  3.69  1.29  72.61  0.57  8.22  0.0  0.0     1\n",
       "4  1.51742  13.27  3.62  1.24  73.08  0.55  8.07  0.0  0.0     1"
      ]
     },
     "execution_count": 4,
     "metadata": {},
     "output_type": "execute_result"
    }
   ],
   "source": [
    "df1.head()"
   ]
  },
  {
   "cell_type": "code",
   "execution_count": 5,
   "id": "94cb8634",
   "metadata": {},
   "outputs": [
    {
     "data": {
      "text/plain": [
       "1"
      ]
     },
     "execution_count": 5,
     "metadata": {},
     "output_type": "execute_result"
    }
   ],
   "source": [
    "df1.duplicated().sum()"
   ]
  },
  {
   "cell_type": "code",
   "execution_count": 9,
   "id": "3a4307a7",
   "metadata": {},
   "outputs": [
    {
     "data": {
      "text/plain": [
       "2    76\n",
       "1    70\n",
       "7    29\n",
       "3    17\n",
       "5    13\n",
       "6     9\n",
       "Name: Type, dtype: int64"
      ]
     },
     "execution_count": 9,
     "metadata": {},
     "output_type": "execute_result"
    }
   ],
   "source": [
    "df1[\"Type\"].value_counts()"
   ]
  },
  {
   "cell_type": "code",
   "execution_count": 10,
   "id": "20c4e635",
   "metadata": {},
   "outputs": [
    {
     "data": {
      "text/plain": [
       "array([[0.43759398, 1.        , 0.25233645, ..., 0.30855019, 0.        ,\n",
       "        0.        ],\n",
       "       [0.47518797, 0.80178174, 0.33333333, ..., 0.22304833, 0.        ,\n",
       "        0.        ],\n",
       "       [0.42105263, 0.79064588, 0.3894081 , ..., 0.21840149, 0.        ,\n",
       "        0.        ],\n",
       "       ...,\n",
       "       [0.54586466, 0.        , 0.53894081, ..., 0.27973978, 0.52063492,\n",
       "        0.        ],\n",
       "       [0.54887218, 0.        , 0.51401869, ..., 0.28345725, 0.4984127 ,\n",
       "        0.        ],\n",
       "       [0.52631579, 0.        , 0.5576324 , ..., 0.2964684 , 0.53015873,\n",
       "        0.        ]])"
      ]
     },
     "execution_count": 10,
     "metadata": {},
     "output_type": "execute_result"
    }
   ],
   "source": [
    "x = (x-x.min(axis=0))/(x.max(axis=0)-x.min(axis=0))\n",
    "x"
   ]
  },
  {
   "cell_type": "code",
   "execution_count": 14,
   "id": "5869c277",
   "metadata": {},
   "outputs": [],
   "source": [
    "x_train,x_test,y_train,y_test=train_test_split(x,y,test_size=0.3,shuffle=20)"
   ]
  },
  {
   "cell_type": "code",
   "execution_count": 15,
   "id": "e6106a47",
   "metadata": {},
   "outputs": [
    {
     "data": {
      "text/plain": [
       "0.6923076923076923"
      ]
     },
     "execution_count": 15,
     "metadata": {},
     "output_type": "execute_result"
    }
   ],
   "source": [
    "model = KNeighborsClassifier(n_neighbors= 1)\n",
    "model.fit(x_train,y_train)\n",
    "pred = model.predict(x_test)\n",
    "accuracy_score(pred,y_test)"
   ]
  },
  {
   "cell_type": "code",
   "execution_count": 16,
   "id": "882c91a3",
   "metadata": {},
   "outputs": [
    {
     "name": "stdout",
     "output_type": "stream",
     "text": [
      "              precision    recall  f1-score   support\n",
      "\n",
      "           1       0.82      0.64      0.72        28\n",
      "           2       0.67      0.82      0.74        17\n",
      "           3       0.33      0.40      0.36         5\n",
      "           5       0.67      0.50      0.57         4\n",
      "           6       0.60      1.00      0.75         3\n",
      "           7       0.75      0.75      0.75         8\n",
      "\n",
      "    accuracy                           0.69        65\n",
      "   macro avg       0.64      0.69      0.65        65\n",
      "weighted avg       0.71      0.69      0.69        65\n",
      "\n"
     ]
    }
   ],
   "source": [
    "print(classification_report(y_test,pred))"
   ]
  },
  {
   "cell_type": "markdown",
   "id": "25e1d576",
   "metadata": {},
   "source": [
    "# visualizing the CV results"
   ]
  },
  {
   "cell_type": "code",
   "execution_count": 18,
   "id": "c3179f21",
   "metadata": {},
   "outputs": [
    {
     "name": "stdout",
     "output_type": "stream",
     "text": [
      "k value= 1\n",
      "              precision    recall  f1-score   support\n",
      "\n",
      "           1       0.82      0.64      0.72        28\n",
      "           2       0.67      0.82      0.74        17\n",
      "           3       0.33      0.40      0.36         5\n",
      "           5       0.67      0.50      0.57         4\n",
      "           6       0.60      1.00      0.75         3\n",
      "           7       0.75      0.75      0.75         8\n",
      "\n",
      "    accuracy                           0.69        65\n",
      "   macro avg       0.64      0.69      0.65        65\n",
      "weighted avg       0.71      0.69      0.69        65\n",
      "\n",
      "k value= 3\n",
      "              precision    recall  f1-score   support\n",
      "\n",
      "           1       0.78      0.75      0.76        28\n",
      "           2       0.59      0.76      0.67        17\n",
      "           3       0.00      0.00      0.00         5\n",
      "           5       0.50      0.50      0.50         4\n",
      "           6       0.75      1.00      0.86         3\n",
      "           7       0.75      0.75      0.75         8\n",
      "\n",
      "    accuracy                           0.69        65\n",
      "   macro avg       0.56      0.63      0.59        65\n",
      "weighted avg       0.65      0.69      0.67        65\n",
      "\n",
      "k value= 5\n",
      "              precision    recall  f1-score   support\n",
      "\n",
      "           1       0.76      0.68      0.72        28\n",
      "           2       0.57      0.76      0.65        17\n",
      "           3       0.00      0.00      0.00         5\n",
      "           5       0.50      0.25      0.33         4\n",
      "           6       0.75      1.00      0.86         3\n",
      "           7       0.67      0.75      0.71         8\n",
      "\n",
      "    accuracy                           0.65        65\n",
      "   macro avg       0.54      0.57      0.54        65\n",
      "weighted avg       0.62      0.65      0.63        65\n",
      "\n",
      "k value= 7\n",
      "              precision    recall  f1-score   support\n",
      "\n",
      "           1       0.70      0.68      0.69        28\n",
      "           2       0.55      0.71      0.62        17\n",
      "           3       0.00      0.00      0.00         5\n",
      "           5       0.50      0.25      0.33         4\n",
      "           6       0.33      0.33      0.33         3\n",
      "           7       0.67      0.75      0.71         8\n",
      "\n",
      "    accuracy                           0.60        65\n",
      "   macro avg       0.46      0.45      0.45        65\n",
      "weighted avg       0.57      0.60      0.58        65\n",
      "\n",
      "k value= 9\n",
      "              precision    recall  f1-score   support\n",
      "\n",
      "           1       0.75      0.75      0.75        28\n",
      "           2       0.64      0.82      0.72        17\n",
      "           3       0.00      0.00      0.00         5\n",
      "           5       0.67      0.50      0.57         4\n",
      "           6       0.00      0.00      0.00         3\n",
      "           7       0.60      0.75      0.67         8\n",
      "\n",
      "    accuracy                           0.66        65\n",
      "   macro avg       0.44      0.47      0.45        65\n",
      "weighted avg       0.60      0.66      0.63        65\n",
      "\n",
      "k value= 11\n",
      "              precision    recall  f1-score   support\n",
      "\n",
      "           1       0.74      0.71      0.73        28\n",
      "           2       0.54      0.76      0.63        17\n",
      "           3       0.00      0.00      0.00         5\n",
      "           5       0.50      0.25      0.33         4\n",
      "           6       0.50      0.33      0.40         3\n",
      "           7       0.60      0.75      0.67         8\n",
      "\n",
      "    accuracy                           0.63        65\n",
      "   macro avg       0.48      0.47      0.46        65\n",
      "weighted avg       0.59      0.63      0.60        65\n",
      "\n",
      "k value= 13\n",
      "              precision    recall  f1-score   support\n",
      "\n",
      "           1       0.72      0.75      0.74        28\n",
      "           2       0.55      0.71      0.62        17\n",
      "           3       0.00      0.00      0.00         5\n",
      "           5       0.33      0.25      0.29         4\n",
      "           6       0.00      0.00      0.00         3\n",
      "           7       0.60      0.75      0.67         8\n",
      "\n",
      "    accuracy                           0.62        65\n",
      "   macro avg       0.37      0.41      0.38        65\n",
      "weighted avg       0.55      0.62      0.58        65\n",
      "\n",
      "k value= 15\n",
      "              precision    recall  f1-score   support\n",
      "\n",
      "           1       0.70      0.75      0.72        28\n",
      "           2       0.55      0.71      0.62        17\n",
      "           3       0.00      0.00      0.00         5\n",
      "           5       0.33      0.25      0.29         4\n",
      "           6       0.00      0.00      0.00         3\n",
      "           7       0.60      0.75      0.67         8\n",
      "\n",
      "    accuracy                           0.62        65\n",
      "   macro avg       0.36      0.41      0.38        65\n",
      "weighted avg       0.54      0.62      0.57        65\n",
      "\n",
      "k value= 17\n",
      "              precision    recall  f1-score   support\n",
      "\n",
      "           1       0.78      0.75      0.76        28\n",
      "           2       0.52      0.76      0.62        17\n",
      "           3       0.00      0.00      0.00         5\n",
      "           5       0.00      0.00      0.00         4\n",
      "           6       0.00      0.00      0.00         3\n",
      "           7       0.55      0.75      0.63         8\n",
      "\n",
      "    accuracy                           0.62        65\n",
      "   macro avg       0.31      0.38      0.34        65\n",
      "weighted avg       0.54      0.62      0.57        65\n",
      "\n",
      "k value= 19\n",
      "              precision    recall  f1-score   support\n",
      "\n",
      "           1       0.75      0.75      0.75        28\n",
      "           2       0.54      0.76      0.63        17\n",
      "           3       0.00      0.00      0.00         5\n",
      "           5       0.00      0.00      0.00         4\n",
      "           6       0.00      0.00      0.00         3\n",
      "           7       0.55      0.75      0.63         8\n",
      "\n",
      "    accuracy                           0.62        65\n",
      "   macro avg       0.31      0.38      0.34        65\n",
      "weighted avg       0.53      0.62      0.57        65\n",
      "\n",
      "k value= 21\n",
      "              precision    recall  f1-score   support\n",
      "\n",
      "           1       0.72      0.75      0.74        28\n",
      "           2       0.54      0.76      0.63        17\n",
      "           3       0.00      0.00      0.00         5\n",
      "           5       0.00      0.00      0.00         4\n",
      "           6       0.00      0.00      0.00         3\n",
      "           7       0.55      0.75      0.63         8\n",
      "\n",
      "    accuracy                           0.62        65\n",
      "   macro avg       0.30      0.38      0.33        65\n",
      "weighted avg       0.52      0.62      0.56        65\n",
      "\n",
      "k value= 23\n",
      "              precision    recall  f1-score   support\n",
      "\n",
      "           1       0.74      0.71      0.73        28\n",
      "           2       0.50      0.76      0.60        17\n",
      "           3       0.00      0.00      0.00         5\n",
      "           5       0.50      0.25      0.33         4\n",
      "           6       0.00      0.00      0.00         3\n",
      "           7       0.60      0.75      0.67         8\n",
      "\n",
      "    accuracy                           0.62        65\n",
      "   macro avg       0.39      0.41      0.39        65\n",
      "weighted avg       0.55      0.62      0.57        65\n",
      "\n",
      "k value= 25\n",
      "              precision    recall  f1-score   support\n",
      "\n",
      "           1       0.74      0.71      0.73        28\n",
      "           2       0.50      0.76      0.60        17\n",
      "           3       0.00      0.00      0.00         5\n",
      "           5       0.00      0.00      0.00         4\n",
      "           6       0.00      0.00      0.00         3\n",
      "           7       0.55      0.75      0.63         8\n",
      "\n",
      "    accuracy                           0.60        65\n",
      "   macro avg       0.30      0.37      0.33        65\n",
      "weighted avg       0.52      0.60      0.55        65\n",
      "\n",
      "k value= 27\n",
      "              precision    recall  f1-score   support\n",
      "\n",
      "           1       0.70      0.68      0.69        28\n",
      "           2       0.50      0.76      0.60        17\n",
      "           3       0.00      0.00      0.00         5\n",
      "           5       0.00      0.00      0.00         4\n",
      "           6       0.00      0.00      0.00         3\n",
      "           7       0.58      0.88      0.70         8\n",
      "\n",
      "    accuracy                           0.60        65\n",
      "   macro avg       0.30      0.39      0.33        65\n",
      "weighted avg       0.51      0.60      0.54        65\n",
      "\n",
      "k value= 29\n",
      "              precision    recall  f1-score   support\n",
      "\n",
      "           1       0.71      0.71      0.71        28\n",
      "           2       0.50      0.71      0.59        17\n",
      "           3       0.00      0.00      0.00         5\n",
      "           5       0.00      0.00      0.00         4\n",
      "           6       0.00      0.00      0.00         3\n",
      "           7       0.54      0.88      0.67         8\n",
      "\n",
      "    accuracy                           0.60        65\n",
      "   macro avg       0.29      0.38      0.33        65\n",
      "weighted avg       0.50      0.60      0.54        65\n",
      "\n",
      "k value= 31\n",
      "              precision    recall  f1-score   support\n",
      "\n",
      "           1       0.76      0.68      0.72        28\n",
      "           2       0.44      0.71      0.55        17\n",
      "           3       0.00      0.00      0.00         5\n",
      "           5       0.00      0.00      0.00         4\n",
      "           6       0.00      0.00      0.00         3\n",
      "           7       0.54      0.88      0.67         8\n",
      "\n",
      "    accuracy                           0.58        65\n",
      "   macro avg       0.29      0.38      0.32        65\n",
      "weighted avg       0.51      0.58      0.53        65\n",
      "\n",
      "k value= 33\n",
      "              precision    recall  f1-score   support\n",
      "\n",
      "           1       0.83      0.71      0.77        28\n",
      "           2       0.50      0.82      0.62        17\n",
      "           3       0.00      0.00      0.00         5\n",
      "           5       0.00      0.00      0.00         4\n",
      "           6       0.00      0.00      0.00         3\n",
      "           7       0.54      0.88      0.67         8\n",
      "\n",
      "    accuracy                           0.63        65\n",
      "   macro avg       0.31      0.40      0.34        65\n",
      "weighted avg       0.56      0.63      0.58        65\n",
      "\n"
     ]
    },
    {
     "name": "stdout",
     "output_type": "stream",
     "text": [
      "k value= 35\n",
      "              precision    recall  f1-score   support\n",
      "\n",
      "           1       0.83      0.68      0.75        28\n",
      "           2       0.48      0.82      0.61        17\n",
      "           3       0.00      0.00      0.00         5\n",
      "           5       0.00      0.00      0.00         4\n",
      "           6       0.00      0.00      0.00         3\n",
      "           7       0.54      0.88      0.67         8\n",
      "\n",
      "    accuracy                           0.62        65\n",
      "   macro avg       0.31      0.40      0.34        65\n",
      "weighted avg       0.55      0.62      0.56        65\n",
      "\n",
      "k value= 37\n",
      "              precision    recall  f1-score   support\n",
      "\n",
      "           1       0.83      0.68      0.75        28\n",
      "           2       0.48      0.82      0.61        17\n",
      "           3       0.00      0.00      0.00         5\n",
      "           5       0.00      0.00      0.00         4\n",
      "           6       0.00      0.00      0.00         3\n",
      "           7       0.54      0.88      0.67         8\n",
      "\n",
      "    accuracy                           0.62        65\n",
      "   macro avg       0.31      0.40      0.34        65\n",
      "weighted avg       0.55      0.62      0.56        65\n",
      "\n",
      "k value= 39\n",
      "              precision    recall  f1-score   support\n",
      "\n",
      "           1       0.82      0.64      0.72        28\n",
      "           2       0.47      0.82      0.60        17\n",
      "           3       0.00      0.00      0.00         5\n",
      "           5       0.00      0.00      0.00         4\n",
      "           6       0.00      0.00      0.00         3\n",
      "           7       0.54      0.88      0.67         8\n",
      "\n",
      "    accuracy                           0.60        65\n",
      "   macro avg       0.30      0.39      0.33        65\n",
      "weighted avg       0.54      0.60      0.55        65\n",
      "\n"
     ]
    }
   ],
   "source": [
    "import matplotlib.pyplot as plt\n",
    "%matplotlib inline\n",
    "k_range = [2*i+1 for i in range(0,20)]\n",
    "k_scores = []\n",
    "for k in k_range:\n",
    "    knn = KNeighborsClassifier(n_neighbors=k)\n",
    "    scores = cross_val_score(knn,x_train,y_train,cv = 11)\n",
    "    k_scores.append(scores.mean())\n",
    "    print(\"k value=\",k)\n",
    "    model = KNeighborsClassifier(n_neighbors=k)\n",
    "    model.fit(x_train,y_train)\n",
    "    pred = model.predict(x_test)\n",
    "    print(classification_report(y_test,pred))"
   ]
  },
  {
   "cell_type": "code",
   "execution_count": 19,
   "id": "66cb63aa",
   "metadata": {},
   "outputs": [
    {
     "data": {
      "image/png": "[encoded data removed]",
      "text/plain": [
       "<Figure size 640x480 with 1 Axes>"
      ]
     },
     "metadata": {},
     "output_type": "display_data"
    }
   ],
   "source": [
    "plt.bar(k_range,k_scores)\n",
    "plt.plot(k_range,k_scores,color =\"green\")\n",
    "plt.xlabel('value of k for knn')\n",
    "plt.ylabel('cross-validation Accuracy')\n",
    "plt.xticks(k_range)\n",
    "plt.show()"
   ]
  },
  {
   "cell_type": "code",
   "execution_count": 20,
   "id": "a30512ca",
   "metadata": {},
   "outputs": [
    {
     "data": {
      "text/plain": [
       "0"
      ]
     },
     "execution_count": 20,
     "metadata": {},
     "output_type": "execute_result"
    }
   ],
   "source": [
    "np.argmax(k_scores)"
   ]
  },
  {
   "cell_type": "code",
   "execution_count": 21,
   "id": "1561c3fc",
   "metadata": {},
   "outputs": [
    {
     "data": {
      "text/plain": [
       "1"
      ]
     },
     "execution_count": 21,
     "metadata": {},
     "output_type": "execute_result"
    }
   ],
   "source": [
    "k_range[0]"
   ]
  },
  {
   "cell_type": "code",
   "execution_count": 22,
   "id": "9e8bebfd",
   "metadata": {},
   "outputs": [
    {
     "data": {
      "text/plain": [
       "0.6388611388611388"
      ]
     },
     "execution_count": 22,
     "metadata": {},
     "output_type": "execute_result"
    }
   ],
   "source": [
    "k_scores[1]"
   ]
  },
  {
   "cell_type": "code",
   "execution_count": 25,
   "id": "76fe16ae",
   "metadata": {},
   "outputs": [
    {
     "name": "stdout",
     "output_type": "stream",
     "text": [
      "              precision    recall  f1-score   support\n",
      "\n",
      "           1       0.82      0.64      0.72        28\n",
      "           2       0.67      0.82      0.74        17\n",
      "           3       0.33      0.40      0.36         5\n",
      "           5       0.67      0.50      0.57         4\n",
      "           6       0.60      1.00      0.75         3\n",
      "           7       0.75      0.75      0.75         8\n",
      "\n",
      "    accuracy                           0.69        65\n",
      "   macro avg       0.64      0.69      0.65        65\n",
      "weighted avg       0.71      0.69      0.69        65\n",
      "\n"
     ]
    }
   ],
   "source": [
    "model = KNeighborsClassifier(n_neighbors= 1)\n",
    "model.fit(x_train,y_train)\n",
    "pred = model.predict(x_test)\n",
    "accuracy_score(pred,y_test)\n",
    "print(classification_report(y_test,pred))"
   ]
  },
  {
   "cell_type": "code",
   "execution_count": null,
   "id": "8fb70138",
   "metadata": {},
   "outputs": [],
   "source": []
  }
 ],
 "metadata": {
  "kernelspec": {
   "display_name": "Python 3 (ipykernel)",
   "language": "python",
   "name": "python3"
  },
  "language_info": {
   "codemirror_mode": {
    "name": "ipython",
    "version": 3
   },
   "file_extension": ".py",
   "mimetype": "text/x-python",
   "name": "python",
   "nbconvert_exporter": "python",
   "pygments_lexer": "ipython3",
   "version": "3.9.13"
  }
 },
 "nbformat": 4,
 "nbformat_minor": 5
}
