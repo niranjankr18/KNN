{
 "cells": [
  {
   "cell_type": "code",
   "execution_count": 9,
   "id": "9d6aef09",
   "metadata": {},
   "outputs": [],
   "source": [
    "import pandas as pd\n",
    "import numpy as np\n",
    "import matplotlib.pyplot as plt\n",
    "from sklearn.model_selection import KFold\n",
    "from sklearn.model_selection import cross_val_score\n",
    "from sklearn.neighbors import KNeighborsClassifier\n",
    "from sklearn.model_selection import train_test_split\n",
    "from sklearn.metrics import accuracy_score,classification_report\n",
    "import warnings\n",
    "warnings.filterwarnings('ignore')\n"
   ]
  },
  {
   "cell_type": "code",
   "execution_count": 10,
   "id": "99fd6675",
   "metadata": {},
   "outputs": [],
   "source": [
    "df1=pd.read_csv(\"glass.csv\")"
   ]
  },
  {
   "cell_type": "code",
   "execution_count": 11,
   "id": "101b3b09",
   "metadata": {},
   "outputs": [
    {
     "data": {
      "text/html": [
       "<div>\n",
       "<style scoped>\n",
       "    .dataframe tbody tr th:only-of-type {\n",
       "        vertical-align: middle;\n",
       "    }\n",
       "\n",
       "    .dataframe tbody tr th {\n",
       "        vertical-align: top;\n",
       "    }\n",
       "\n",
       "    .dataframe thead th {\n",
       "        text-align: right;\n",
       "    }\n",
       "</style>\n",
       "<table border=\"1\" class=\"dataframe\">\n",
       "  <thead>\n",
       "    <tr style=\"text-align: right;\">\n",
       "      <th></th>\n",
       "      <th>RI</th>\n",
       "      <th>Na</th>\n",
       "      <th>Mg</th>\n",
       "      <th>Al</th>\n",
       "      <th>Si</th>\n",
       "      <th>K</th>\n",
       "      <th>Ca</th>\n",
       "      <th>Ba</th>\n",
       "      <th>Fe</th>\n",
       "      <th>Type</th>\n",
       "    </tr>\n",
       "  </thead>\n",
       "  <tbody>\n",
       "    <tr>\n",
       "      <th>0</th>\n",
       "      <td>1.52101</td>\n",
       "      <td>13.64</td>\n",
       "      <td>4.49</td>\n",
       "      <td>1.10</td>\n",
       "      <td>71.78</td>\n",
       "      <td>0.06</td>\n",
       "      <td>8.75</td>\n",
       "      <td>0.0</td>\n",
       "      <td>0.0</td>\n",
       "      <td>1</td>\n",
       "    </tr>\n",
       "    <tr>\n",
       "      <th>1</th>\n",
       "      <td>1.51761</td>\n",
       "      <td>13.89</td>\n",
       "      <td>3.60</td>\n",
       "      <td>1.36</td>\n",
       "      <td>72.73</td>\n",
       "      <td>0.48</td>\n",
       "      <td>7.83</td>\n",
       "      <td>0.0</td>\n",
       "      <td>0.0</td>\n",
       "      <td>1</td>\n",
       "    </tr>\n",
       "    <tr>\n",
       "      <th>2</th>\n",
       "      <td>1.51618</td>\n",
       "      <td>13.53</td>\n",
       "      <td>3.55</td>\n",
       "      <td>1.54</td>\n",
       "      <td>72.99</td>\n",
       "      <td>0.39</td>\n",
       "      <td>7.78</td>\n",
       "      <td>0.0</td>\n",
       "      <td>0.0</td>\n",
       "      <td>1</td>\n",
       "    </tr>\n",
       "    <tr>\n",
       "      <th>3</th>\n",
       "      <td>1.51766</td>\n",
       "      <td>13.21</td>\n",
       "      <td>3.69</td>\n",
       "      <td>1.29</td>\n",
       "      <td>72.61</td>\n",
       "      <td>0.57</td>\n",
       "      <td>8.22</td>\n",
       "      <td>0.0</td>\n",
       "      <td>0.0</td>\n",
       "      <td>1</td>\n",
       "    </tr>\n",
       "    <tr>\n",
       "      <th>4</th>\n",
       "      <td>1.51742</td>\n",
       "      <td>13.27</td>\n",
       "      <td>3.62</td>\n",
       "      <td>1.24</td>\n",
       "      <td>73.08</td>\n",
       "      <td>0.55</td>\n",
       "      <td>8.07</td>\n",
       "      <td>0.0</td>\n",
       "      <td>0.0</td>\n",
       "      <td>1</td>\n",
       "    </tr>\n",
       "  </tbody>\n",
       "</table>\n",
       "</div>"
      ],
      "text/plain": [
       "        RI     Na    Mg    Al     Si     K    Ca   Ba   Fe  Type\n",
       "0  1.52101  13.64  4.49  1.10  71.78  0.06  8.75  0.0  0.0     1\n",
       "1  1.51761  13.89  3.60  1.36  72.73  0.48  7.83  0.0  0.0     1\n",
       "2  1.51618  13.53  3.55  1.54  72.99  0.39  7.78  0.0  0.0     1\n",
       "3  1.51766  13.21  3.69  1.29  72.61  0.57  8.22  0.0  0.0     1\n",
       "4  1.51742  13.27  3.62  1.24  73.08  0.55  8.07  0.0  0.0     1"
      ]
     },
     "execution_count": 11,
     "metadata": {},
     "output_type": "execute_result"
    }
   ],
   "source": [
    "df1.head()"
   ]
  },
  {
   "cell_type": "code",
   "execution_count": 12,
   "id": "bd879c36",
   "metadata": {},
   "outputs": [
    {
     "data": {
      "text/plain": [
       "(214, 10)"
      ]
     },
     "execution_count": 12,
     "metadata": {},
     "output_type": "execute_result"
    }
   ],
   "source": [
    "df1.shape"
   ]
  },
  {
   "cell_type": "code",
   "execution_count": 13,
   "id": "94cb8634",
   "metadata": {},
   "outputs": [
    {
     "data": {
      "text/plain": [
       "1"
      ]
     },
     "execution_count": 13,
     "metadata": {},
     "output_type": "execute_result"
    }
   ],
   "source": [
    "df1.duplicated().sum()"
   ]
  },
  {
   "cell_type": "code",
   "execution_count": 14,
   "id": "181e34be",
   "metadata": {},
   "outputs": [
    {
     "name": "stdout",
     "output_type": "stream",
     "text": [
      "<class 'pandas.core.frame.DataFrame'>\n",
      "RangeIndex: 214 entries, 0 to 213\n",
      "Data columns (total 10 columns):\n",
      " #   Column  Non-Null Count  Dtype  \n",
      "---  ------  --------------  -----  \n",
      " 0   RI      214 non-null    float64\n",
      " 1   Na      214 non-null    float64\n",
      " 2   Mg      214 non-null    float64\n",
      " 3   Al      214 non-null    float64\n",
      " 4   Si      214 non-null    float64\n",
      " 5   K       214 non-null    float64\n",
      " 6   Ca      214 non-null    float64\n",
      " 7   Ba      214 non-null    float64\n",
      " 8   Fe      214 non-null    float64\n",
      " 9   Type    214 non-null    int64  \n",
      "dtypes: float64(9), int64(1)\n",
      "memory usage: 16.8 KB\n"
     ]
    }
   ],
   "source": [
    "df1.info()"
   ]
  },
  {
   "cell_type": "code",
   "execution_count": 15,
   "id": "854045aa",
   "metadata": {},
   "outputs": [
    {
     "data": {
      "text/plain": [
       "RI      0\n",
       "Na      0\n",
       "Mg      0\n",
       "Al      0\n",
       "Si      0\n",
       "K       0\n",
       "Ca      0\n",
       "Ba      0\n",
       "Fe      0\n",
       "Type    0\n",
       "dtype: int64"
      ]
     },
     "execution_count": 15,
     "metadata": {},
     "output_type": "execute_result"
    }
   ],
   "source": [
    "df1.isna().sum()"
   ]
  },
  {
   "cell_type": "code",
   "execution_count": 16,
   "id": "3a4307a7",
   "metadata": {},
   "outputs": [
    {
     "data": {
      "text/plain": [
       "2    76\n",
       "1    70\n",
       "7    29\n",
       "3    17\n",
       "5    13\n",
       "6     9\n",
       "Name: Type, dtype: int64"
      ]
     },
     "execution_count": 16,
     "metadata": {},
     "output_type": "execute_result"
    }
   ],
   "source": [
    "df1[\"Type\"].value_counts()"
   ]
  },
  {
   "cell_type": "code",
   "execution_count": 19,
   "id": "913cf0b3",
   "metadata": {},
   "outputs": [
    {
     "data": {
      "image/png": "[encoded data removed]",
      "text/plain": [
       "<Figure size 640x480 with 1 Axes>"
      ]
     },
     "metadata": {},
     "output_type": "display_data"
    }
   ],
   "source": [
    "df1.Type.value_counts().plot(kind='bar',color='green')\n",
    "plt.xlabel(\"count\",size=20)\n",
    "plt.ylabel(\"Type_value\",size=23)\n",
    "plt.xticks(rotation='0')\n",
    "plt.show()"
   ]
  },
  {
   "cell_type": "code",
   "execution_count": 25,
   "id": "97f47827",
   "metadata": {},
   "outputs": [
    {
     "data": {
      "text/plain": [
       "<AxesSubplot:ylabel='Type'>"
      ]
     },
     "execution_count": 25,
     "metadata": {},
     "output_type": "execute_result"
    },
    {
     "data": {
      "image/png": "[encoded data removed]",
      "text/plain": [
       "<Figure size 1000x400 with 1 Axes>"
      ]
     },
     "metadata": {},
     "output_type": "display_data"
    }
   ],
   "source": [
    "plt.figure(figsize=(10,4))\n",
    "df1[\"Type\"].value_counts().plot(kind='pie',autopct=\"%1.2f%%\")"
   ]
  },
  {
   "cell_type": "code",
   "execution_count": 26,
   "id": "1a7e296b",
   "metadata": {},
   "outputs": [
    {
     "data": {
      "text/plain": [
       "Index(['RI', 'Na', 'Mg', 'Al', 'Si', 'K', 'Ca', 'Ba', 'Fe', 'Type'], dtype='object')"
      ]
     },
     "execution_count": 26,
     "metadata": {},
     "output_type": "execute_result"
    }
   ],
   "source": [
    "df1.columns"
   ]
  },
  {
   "cell_type": "code",
   "execution_count": 31,
   "id": "4974db9d",
   "metadata": {},
   "outputs": [
    {
     "data": {
      "image/png": "[encoded data removed]",
      "text/plain": [
       "<Figure size 2000x3000 with 9 Axes>"
      ]
     },
     "metadata": {},
     "output_type": "display_data"
    }
   ],
   "source": [
    "column=['RI','Na','Mg','Al','Si','K','Ca','Ba','Fe']\n",
    "fig=plt.figure(figsize=(20,30))\n",
    "i=0\n",
    "for column in column:\n",
    "    sub=fig.add_subplot(4,3,i+1)\n",
    "    sub.set_xlabel(column)\n",
    "    df1[column].plot(kind='hist')\n",
    "    i=i+1"
   ]
  },
  {
   "cell_type": "code",
   "execution_count": 32,
   "id": "65b1393c",
   "metadata": {},
   "outputs": [],
   "source": [
    "array=df1.values\n",
    "x=array[:,0:-1]\n",
    "y=array[:,-1]\n"
   ]
  },
  {
   "cell_type": "code",
   "execution_count": 33,
   "id": "20c4e635",
   "metadata": {},
   "outputs": [
    {
     "data": {
      "text/plain": [
       "array([[0.43283582, 0.43759398, 1.        , ..., 0.30855019, 0.        ,\n",
       "        0.        ],\n",
       "       [0.28358209, 0.47518797, 0.80178174, ..., 0.22304833, 0.        ,\n",
       "        0.        ],\n",
       "       [0.22080773, 0.42105263, 0.79064588, ..., 0.21840149, 0.        ,\n",
       "        0.        ],\n",
       "       ...,\n",
       "       [0.41703248, 0.54586466, 0.        , ..., 0.27973978, 0.52063492,\n",
       "        0.        ],\n",
       "       [0.23529412, 0.54887218, 0.        , ..., 0.28345725, 0.4984127 ,\n",
       "        0.        ],\n",
       "       [0.26163301, 0.52631579, 0.        , ..., 0.2964684 , 0.53015873,\n",
       "        0.        ]])"
      ]
     },
     "execution_count": 33,
     "metadata": {},
     "output_type": "execute_result"
    }
   ],
   "source": [
    "x = (x-x.min(axis=0))/(x.max(axis=0)-x.min(axis=0))\n",
    "x"
   ]
  },
  {
   "cell_type": "code",
   "execution_count": 34,
   "id": "ec105e3a",
   "metadata": {},
   "outputs": [
    {
     "data": {
      "text/plain": [
       "array([1., 1., 1., 1., 1., 1., 1., 1., 1., 1., 1., 1., 1., 1., 1., 1., 1.,\n",
       "       1., 1., 1., 1., 1., 1., 1., 1., 1., 1., 1., 1., 1., 1., 1., 1., 1.,\n",
       "       1., 1., 1., 1., 1., 1., 1., 1., 1., 1., 1., 1., 1., 1., 1., 1., 1.,\n",
       "       1., 1., 1., 1., 1., 1., 1., 1., 1., 1., 1., 1., 1., 1., 1., 1., 1.,\n",
       "       1., 1., 2., 2., 2., 2., 2., 2., 2., 2., 2., 2., 2., 2., 2., 2., 2.,\n",
       "       2., 2., 2., 2., 2., 2., 2., 2., 2., 2., 2., 2., 2., 2., 2., 2., 2.,\n",
       "       2., 2., 2., 2., 2., 2., 2., 2., 2., 2., 2., 2., 2., 2., 2., 2., 2.,\n",
       "       2., 2., 2., 2., 2., 2., 2., 2., 2., 2., 2., 2., 2., 2., 2., 2., 2.,\n",
       "       2., 2., 2., 2., 2., 2., 2., 2., 2., 2., 3., 3., 3., 3., 3., 3., 3.,\n",
       "       3., 3., 3., 3., 3., 3., 3., 3., 3., 3., 5., 5., 5., 5., 5., 5., 5.,\n",
       "       5., 5., 5., 5., 5., 5., 6., 6., 6., 6., 6., 6., 6., 6., 6., 7., 7.,\n",
       "       7., 7., 7., 7., 7., 7., 7., 7., 7., 7., 7., 7., 7., 7., 7., 7., 7.,\n",
       "       7., 7., 7., 7., 7., 7., 7., 7., 7., 7.])"
      ]
     },
     "execution_count": 34,
     "metadata": {},
     "output_type": "execute_result"
    }
   ],
   "source": [
    "y"
   ]
  },
  {
   "cell_type": "code",
   "execution_count": 35,
   "id": "5869c277",
   "metadata": {},
   "outputs": [],
   "source": [
    "x_train,x_test,y_train,y_test=train_test_split(x,y,test_size=0.3,shuffle=20)"
   ]
  },
  {
   "cell_type": "code",
   "execution_count": 36,
   "id": "e6106a47",
   "metadata": {},
   "outputs": [
    {
     "data": {
      "text/plain": [
       "0.7076923076923077"
      ]
     },
     "execution_count": 36,
     "metadata": {},
     "output_type": "execute_result"
    }
   ],
   "source": [
    "model = KNeighborsClassifier(n_neighbors= 1)\n",
    "model.fit(x_train,y_train)\n",
    "pred = model.predict(x_test)\n",
    "accuracy_score(pred,y_test)"
   ]
  },
  {
   "cell_type": "code",
   "execution_count": 37,
   "id": "882c91a3",
   "metadata": {},
   "outputs": [
    {
     "name": "stdout",
     "output_type": "stream",
     "text": [
      "              precision    recall  f1-score   support\n",
      "\n",
      "         1.0       0.72      0.62      0.67        21\n",
      "         2.0       0.73      0.73      0.73        26\n",
      "         3.0       0.00      0.00      0.00         2\n",
      "         5.0       0.80      1.00      0.89         4\n",
      "         6.0       0.75      1.00      0.86         3\n",
      "         7.0       1.00      0.78      0.88         9\n",
      "\n",
      "    accuracy                           0.71        65\n",
      "   macro avg       0.67      0.69      0.67        65\n",
      "weighted avg       0.75      0.71      0.72        65\n",
      "\n"
     ]
    }
   ],
   "source": [
    "print(classification_report(y_test,pred))"
   ]
  },
  {
   "cell_type": "code",
   "execution_count": 47,
   "id": "0affb37e",
   "metadata": {},
   "outputs": [
    {
     "name": "stdout",
     "output_type": "stream",
     "text": [
      "              precision    recall  f1-score   support\n",
      "\n",
      "         1.0       0.72      0.62      0.67        21\n",
      "         2.0       0.73      0.73      0.73        26\n",
      "         3.0       0.00      0.00      0.00         2\n",
      "         5.0       0.80      1.00      0.89         4\n",
      "         6.0       0.75      1.00      0.86         3\n",
      "         7.0       1.00      0.78      0.88         9\n",
      "\n",
      "    accuracy                           0.71        65\n",
      "   macro avg       0.67      0.69      0.67        65\n",
      "weighted avg       0.75      0.71      0.72        65\n",
      " 1\n",
      "              precision    recall  f1-score   support\n",
      "\n",
      "         1.0       0.72      0.62      0.67        21\n",
      "         2.0       0.73      0.73      0.73        26\n",
      "         3.0       0.00      0.00      0.00         2\n",
      "         5.0       0.80      1.00      0.89         4\n",
      "         6.0       0.75      1.00      0.86         3\n",
      "         7.0       1.00      0.78      0.88         9\n",
      "\n",
      "    accuracy                           0.71        65\n",
      "   macro avg       0.67      0.69      0.67        65\n",
      "weighted avg       0.75      0.71      0.72        65\n",
      " 3\n",
      "              precision    recall  f1-score   support\n",
      "\n",
      "         1.0       0.72      0.62      0.67        21\n",
      "         2.0       0.73      0.73      0.73        26\n",
      "         3.0       0.00      0.00      0.00         2\n",
      "         5.0       0.80      1.00      0.89         4\n",
      "         6.0       0.75      1.00      0.86         3\n",
      "         7.0       1.00      0.78      0.88         9\n",
      "\n",
      "    accuracy                           0.71        65\n",
      "   macro avg       0.67      0.69      0.67        65\n",
      "weighted avg       0.75      0.71      0.72        65\n",
      " 5\n",
      "              precision    recall  f1-score   support\n",
      "\n",
      "         1.0       0.72      0.62      0.67        21\n",
      "         2.0       0.73      0.73      0.73        26\n",
      "         3.0       0.00      0.00      0.00         2\n",
      "         5.0       0.80      1.00      0.89         4\n",
      "         6.0       0.75      1.00      0.86         3\n",
      "         7.0       1.00      0.78      0.88         9\n",
      "\n",
      "    accuracy                           0.71        65\n",
      "   macro avg       0.67      0.69      0.67        65\n",
      "weighted avg       0.75      0.71      0.72        65\n",
      " 7\n",
      "              precision    recall  f1-score   support\n",
      "\n",
      "         1.0       0.72      0.62      0.67        21\n",
      "         2.0       0.73      0.73      0.73        26\n",
      "         3.0       0.00      0.00      0.00         2\n",
      "         5.0       0.80      1.00      0.89         4\n",
      "         6.0       0.75      1.00      0.86         3\n",
      "         7.0       1.00      0.78      0.88         9\n",
      "\n",
      "    accuracy                           0.71        65\n",
      "   macro avg       0.67      0.69      0.67        65\n",
      "weighted avg       0.75      0.71      0.72        65\n",
      " 9\n",
      "              precision    recall  f1-score   support\n",
      "\n",
      "         1.0       0.72      0.62      0.67        21\n",
      "         2.0       0.73      0.73      0.73        26\n",
      "         3.0       0.00      0.00      0.00         2\n",
      "         5.0       0.80      1.00      0.89         4\n",
      "         6.0       0.75      1.00      0.86         3\n",
      "         7.0       1.00      0.78      0.88         9\n",
      "\n",
      "    accuracy                           0.71        65\n",
      "   macro avg       0.67      0.69      0.67        65\n",
      "weighted avg       0.75      0.71      0.72        65\n",
      " 11\n",
      "              precision    recall  f1-score   support\n",
      "\n",
      "         1.0       0.72      0.62      0.67        21\n",
      "         2.0       0.73      0.73      0.73        26\n",
      "         3.0       0.00      0.00      0.00         2\n",
      "         5.0       0.80      1.00      0.89         4\n",
      "         6.0       0.75      1.00      0.86         3\n",
      "         7.0       1.00      0.78      0.88         9\n",
      "\n",
      "    accuracy                           0.71        65\n",
      "   macro avg       0.67      0.69      0.67        65\n",
      "weighted avg       0.75      0.71      0.72        65\n",
      " 13\n",
      "              precision    recall  f1-score   support\n",
      "\n",
      "         1.0       0.72      0.62      0.67        21\n",
      "         2.0       0.73      0.73      0.73        26\n",
      "         3.0       0.00      0.00      0.00         2\n",
      "         5.0       0.80      1.00      0.89         4\n",
      "         6.0       0.75      1.00      0.86         3\n",
      "         7.0       1.00      0.78      0.88         9\n",
      "\n",
      "    accuracy                           0.71        65\n",
      "   macro avg       0.67      0.69      0.67        65\n",
      "weighted avg       0.75      0.71      0.72        65\n",
      " 15\n",
      "              precision    recall  f1-score   support\n",
      "\n",
      "         1.0       0.72      0.62      0.67        21\n",
      "         2.0       0.73      0.73      0.73        26\n",
      "         3.0       0.00      0.00      0.00         2\n",
      "         5.0       0.80      1.00      0.89         4\n",
      "         6.0       0.75      1.00      0.86         3\n",
      "         7.0       1.00      0.78      0.88         9\n",
      "\n",
      "    accuracy                           0.71        65\n",
      "   macro avg       0.67      0.69      0.67        65\n",
      "weighted avg       0.75      0.71      0.72        65\n",
      " 17\n",
      "              precision    recall  f1-score   support\n",
      "\n",
      "         1.0       0.72      0.62      0.67        21\n",
      "         2.0       0.73      0.73      0.73        26\n",
      "         3.0       0.00      0.00      0.00         2\n",
      "         5.0       0.80      1.00      0.89         4\n",
      "         6.0       0.75      1.00      0.86         3\n",
      "         7.0       1.00      0.78      0.88         9\n",
      "\n",
      "    accuracy                           0.71        65\n",
      "   macro avg       0.67      0.69      0.67        65\n",
      "weighted avg       0.75      0.71      0.72        65\n",
      " 19\n",
      "              precision    recall  f1-score   support\n",
      "\n",
      "         1.0       0.72      0.62      0.67        21\n",
      "         2.0       0.73      0.73      0.73        26\n",
      "         3.0       0.00      0.00      0.00         2\n",
      "         5.0       0.80      1.00      0.89         4\n",
      "         6.0       0.75      1.00      0.86         3\n",
      "         7.0       1.00      0.78      0.88         9\n",
      "\n",
      "    accuracy                           0.71        65\n",
      "   macro avg       0.67      0.69      0.67        65\n",
      "weighted avg       0.75      0.71      0.72        65\n",
      " 21\n",
      "              precision    recall  f1-score   support\n",
      "\n",
      "         1.0       0.72      0.62      0.67        21\n",
      "         2.0       0.73      0.73      0.73        26\n",
      "         3.0       0.00      0.00      0.00         2\n",
      "         5.0       0.80      1.00      0.89         4\n",
      "         6.0       0.75      1.00      0.86         3\n",
      "         7.0       1.00      0.78      0.88         9\n",
      "\n",
      "    accuracy                           0.71        65\n",
      "   macro avg       0.67      0.69      0.67        65\n",
      "weighted avg       0.75      0.71      0.72        65\n",
      " 23\n",
      "              precision    recall  f1-score   support\n",
      "\n",
      "         1.0       0.72      0.62      0.67        21\n",
      "         2.0       0.73      0.73      0.73        26\n",
      "         3.0       0.00      0.00      0.00         2\n",
      "         5.0       0.80      1.00      0.89         4\n",
      "         6.0       0.75      1.00      0.86         3\n",
      "         7.0       1.00      0.78      0.88         9\n",
      "\n",
      "    accuracy                           0.71        65\n",
      "   macro avg       0.67      0.69      0.67        65\n",
      "weighted avg       0.75      0.71      0.72        65\n",
      " 25\n",
      "              precision    recall  f1-score   support\n",
      "\n",
      "         1.0       0.72      0.62      0.67        21\n",
      "         2.0       0.73      0.73      0.73        26\n",
      "         3.0       0.00      0.00      0.00         2\n",
      "         5.0       0.80      1.00      0.89         4\n",
      "         6.0       0.75      1.00      0.86         3\n",
      "         7.0       1.00      0.78      0.88         9\n",
      "\n",
      "    accuracy                           0.71        65\n",
      "   macro avg       0.67      0.69      0.67        65\n",
      "weighted avg       0.75      0.71      0.72        65\n",
      " 27\n",
      "              precision    recall  f1-score   support\n",
      "\n",
      "         1.0       0.72      0.62      0.67        21\n",
      "         2.0       0.73      0.73      0.73        26\n",
      "         3.0       0.00      0.00      0.00         2\n",
      "         5.0       0.80      1.00      0.89         4\n",
      "         6.0       0.75      1.00      0.86         3\n",
      "         7.0       1.00      0.78      0.88         9\n",
      "\n",
      "    accuracy                           0.71        65\n",
      "   macro avg       0.67      0.69      0.67        65\n",
      "weighted avg       0.75      0.71      0.72        65\n",
      " 29\n",
      "              precision    recall  f1-score   support\n",
      "\n",
      "         1.0       0.72      0.62      0.67        21\n",
      "         2.0       0.73      0.73      0.73        26\n",
      "         3.0       0.00      0.00      0.00         2\n",
      "         5.0       0.80      1.00      0.89         4\n",
      "         6.0       0.75      1.00      0.86         3\n",
      "         7.0       1.00      0.78      0.88         9\n",
      "\n",
      "    accuracy                           0.71        65\n",
      "   macro avg       0.67      0.69      0.67        65\n",
      "weighted avg       0.75      0.71      0.72        65\n",
      " 31\n",
      "              precision    recall  f1-score   support\n",
      "\n",
      "         1.0       0.72      0.62      0.67        21\n",
      "         2.0       0.73      0.73      0.73        26\n",
      "         3.0       0.00      0.00      0.00         2\n",
      "         5.0       0.80      1.00      0.89         4\n",
      "         6.0       0.75      1.00      0.86         3\n",
      "         7.0       1.00      0.78      0.88         9\n",
      "\n",
      "    accuracy                           0.71        65\n",
      "   macro avg       0.67      0.69      0.67        65\n",
      "weighted avg       0.75      0.71      0.72        65\n",
      " 33\n",
      "              precision    recall  f1-score   support\n",
      "\n",
      "         1.0       0.72      0.62      0.67        21\n",
      "         2.0       0.73      0.73      0.73        26\n",
      "         3.0       0.00      0.00      0.00         2\n",
      "         5.0       0.80      1.00      0.89         4\n",
      "         6.0       0.75      1.00      0.86         3\n",
      "         7.0       1.00      0.78      0.88         9\n",
      "\n",
      "    accuracy                           0.71        65\n",
      "   macro avg       0.67      0.69      0.67        65\n",
      "weighted avg       0.75      0.71      0.72        65\n",
      " 35\n",
      "              precision    recall  f1-score   support\n",
      "\n",
      "         1.0       0.72      0.62      0.67        21\n",
      "         2.0       0.73      0.73      0.73        26\n",
      "         3.0       0.00      0.00      0.00         2\n",
      "         5.0       0.80      1.00      0.89         4\n",
      "         6.0       0.75      1.00      0.86         3\n",
      "         7.0       1.00      0.78      0.88         9\n",
      "\n",
      "    accuracy                           0.71        65\n",
      "   macro avg       0.67      0.69      0.67        65\n",
      "weighted avg       0.75      0.71      0.72        65\n",
      " 37\n",
      "              precision    recall  f1-score   support\n",
      "\n",
      "         1.0       0.72      0.62      0.67        21\n",
      "         2.0       0.73      0.73      0.73        26\n",
      "         3.0       0.00      0.00      0.00         2\n",
      "         5.0       0.80      1.00      0.89         4\n",
      "         6.0       0.75      1.00      0.86         3\n",
      "         7.0       1.00      0.78      0.88         9\n",
      "\n",
      "    accuracy                           0.71        65\n",
      "   macro avg       0.67      0.69      0.67        65\n",
      "weighted avg       0.75      0.71      0.72        65\n",
      " 39\n",
      "              precision    recall  f1-score   support\n",
      "\n",
      "         1.0       0.72      0.62      0.67        21\n",
      "         2.0       0.73      0.73      0.73        26\n",
      "         3.0       0.00      0.00      0.00         2\n",
      "         5.0       0.80      1.00      0.89         4\n",
      "         6.0       0.75      1.00      0.86         3\n",
      "         7.0       1.00      0.78      0.88         9\n",
      "\n",
      "    accuracy                           0.71        65\n",
      "   macro avg       0.67      0.69      0.67        65\n",
      "weighted avg       0.75      0.71      0.72        65\n",
      " 41\n",
      "              precision    recall  f1-score   support\n",
      "\n",
      "         1.0       0.72      0.62      0.67        21\n",
      "         2.0       0.73      0.73      0.73        26\n",
      "         3.0       0.00      0.00      0.00         2\n",
      "         5.0       0.80      1.00      0.89         4\n",
      "         6.0       0.75      1.00      0.86         3\n",
      "         7.0       1.00      0.78      0.88         9\n",
      "\n",
      "    accuracy                           0.71        65\n",
      "   macro avg       0.67      0.69      0.67        65\n",
      "weighted avg       0.75      0.71      0.72        65\n",
      " 43\n",
      "              precision    recall  f1-score   support\n",
      "\n",
      "         1.0       0.72      0.62      0.67        21\n",
      "         2.0       0.73      0.73      0.73        26\n",
      "         3.0       0.00      0.00      0.00         2\n",
      "         5.0       0.80      1.00      0.89         4\n",
      "         6.0       0.75      1.00      0.86         3\n",
      "         7.0       1.00      0.78      0.88         9\n",
      "\n",
      "    accuracy                           0.71        65\n",
      "   macro avg       0.67      0.69      0.67        65\n",
      "weighted avg       0.75      0.71      0.72        65\n",
      " 45\n",
      "              precision    recall  f1-score   support\n",
      "\n",
      "         1.0       0.72      0.62      0.67        21\n",
      "         2.0       0.73      0.73      0.73        26\n",
      "         3.0       0.00      0.00      0.00         2\n",
      "         5.0       0.80      1.00      0.89         4\n",
      "         6.0       0.75      1.00      0.86         3\n",
      "         7.0       1.00      0.78      0.88         9\n",
      "\n",
      "    accuracy                           0.71        65\n",
      "   macro avg       0.67      0.69      0.67        65\n",
      "weighted avg       0.75      0.71      0.72        65\n",
      " 47\n",
      "              precision    recall  f1-score   support\n",
      "\n",
      "         1.0       0.72      0.62      0.67        21\n",
      "         2.0       0.73      0.73      0.73        26\n",
      "         3.0       0.00      0.00      0.00         2\n",
      "         5.0       0.80      1.00      0.89         4\n",
      "         6.0       0.75      1.00      0.86         3\n",
      "         7.0       1.00      0.78      0.88         9\n",
      "\n",
      "    accuracy                           0.71        65\n",
      "   macro avg       0.67      0.69      0.67        65\n",
      "weighted avg       0.75      0.71      0.72        65\n",
      " 49\n",
      "              precision    recall  f1-score   support\n",
      "\n",
      "         1.0       0.72      0.62      0.67        21\n",
      "         2.0       0.73      0.73      0.73        26\n",
      "         3.0       0.00      0.00      0.00         2\n",
      "         5.0       0.80      1.00      0.89         4\n",
      "         6.0       0.75      1.00      0.86         3\n",
      "         7.0       1.00      0.78      0.88         9\n",
      "\n",
      "    accuracy                           0.71        65\n",
      "   macro avg       0.67      0.69      0.67        65\n",
      "weighted avg       0.75      0.71      0.72        65\n",
      " 51\n"
     ]
    }
   ],
   "source": [
    " n_neighbors=[2*i+1 for i in range(0,26)]\n",
    "for n in n_neighbors:\n",
    "    model=KNeighborsClassifier(n_neighbors=n)\n",
    "    model.fit(x_train,y_train)\n",
    "    accuracy_score(y_test,pred)\n",
    "    \n",
    "    print(classification_report(y_test,pred),n)"
   ]
  },
  {
   "cell_type": "markdown",
   "id": "25e1d576",
   "metadata": {},
   "source": [
    "# visualizing the CV results"
   ]
  },
  {
   "cell_type": "code",
   "execution_count": 48,
   "id": "c3179f21",
   "metadata": {},
   "outputs": [
    {
     "name": "stdout",
     "output_type": "stream",
     "text": [
      "k value= 1\n",
      "              precision    recall  f1-score   support\n",
      "\n",
      "         1.0       0.72      0.62      0.67        21\n",
      "         2.0       0.73      0.73      0.73        26\n",
      "         3.0       0.00      0.00      0.00         2\n",
      "         5.0       0.80      1.00      0.89         4\n",
      "         6.0       0.75      1.00      0.86         3\n",
      "         7.0       1.00      0.78      0.88         9\n",
      "\n",
      "    accuracy                           0.71        65\n",
      "   macro avg       0.67      0.69      0.67        65\n",
      "weighted avg       0.75      0.71      0.72        65\n",
      "\n",
      "k value= 3\n",
      "              precision    recall  f1-score   support\n",
      "\n",
      "         1.0       0.62      0.71      0.67        21\n",
      "         2.0       0.74      0.77      0.75        26\n",
      "         3.0       0.00      0.00      0.00         2\n",
      "         5.0       1.00      0.50      0.67         4\n",
      "         6.0       0.00      0.00      0.00         3\n",
      "         7.0       0.78      0.78      0.78         9\n",
      "\n",
      "    accuracy                           0.68        65\n",
      "   macro avg       0.52      0.46      0.48        65\n",
      "weighted avg       0.67      0.68      0.67        65\n",
      "\n",
      "k value= 5\n",
      "              precision    recall  f1-score   support\n",
      "\n",
      "         1.0       0.60      0.71      0.65        21\n",
      "         2.0       0.68      0.73      0.70        26\n",
      "         3.0       0.00      0.00      0.00         2\n",
      "         5.0       1.00      0.25      0.40         4\n",
      "         6.0       0.00      0.00      0.00         3\n",
      "         7.0       0.78      0.78      0.78         9\n",
      "\n",
      "    accuracy                           0.65        65\n",
      "   macro avg       0.51      0.41      0.42        65\n",
      "weighted avg       0.63      0.65      0.62        65\n",
      "\n",
      "k value= 7\n",
      "              precision    recall  f1-score   support\n",
      "\n",
      "         1.0       0.59      0.76      0.67        21\n",
      "         2.0       0.70      0.73      0.72        26\n",
      "         3.0       0.00      0.00      0.00         2\n",
      "         5.0       0.50      0.25      0.33         4\n",
      "         6.0       0.00      0.00      0.00         3\n",
      "         7.0       0.88      0.78      0.82         9\n",
      "\n",
      "    accuracy                           0.66        65\n",
      "   macro avg       0.45      0.42      0.42        65\n",
      "weighted avg       0.62      0.66      0.64        65\n",
      "\n",
      "k value= 9\n",
      "              precision    recall  f1-score   support\n",
      "\n",
      "         1.0       0.56      0.71      0.63        21\n",
      "         2.0       0.69      0.77      0.73        26\n",
      "         3.0       0.00      0.00      0.00         2\n",
      "         5.0       0.00      0.00      0.00         4\n",
      "         6.0       0.00      0.00      0.00         3\n",
      "         7.0       0.78      0.78      0.78         9\n",
      "\n",
      "    accuracy                           0.65        65\n",
      "   macro avg       0.34      0.38      0.36        65\n",
      "weighted avg       0.56      0.65      0.60        65\n",
      "\n",
      "k value= 11\n",
      "              precision    recall  f1-score   support\n",
      "\n",
      "         1.0       0.54      0.62      0.58        21\n",
      "         2.0       0.64      0.81      0.71        26\n",
      "         3.0       0.00      0.00      0.00         2\n",
      "         5.0       0.00      0.00      0.00         4\n",
      "         6.0       0.00      0.00      0.00         3\n",
      "         7.0       0.75      0.67      0.71         9\n",
      "\n",
      "    accuracy                           0.62        65\n",
      "   macro avg       0.32      0.35      0.33        65\n",
      "weighted avg       0.53      0.62      0.57        65\n",
      "\n",
      "k value= 13\n",
      "              precision    recall  f1-score   support\n",
      "\n",
      "         1.0       0.54      0.62      0.58        21\n",
      "         2.0       0.64      0.81      0.71        26\n",
      "         3.0       0.00      0.00      0.00         2\n",
      "         5.0       0.00      0.00      0.00         4\n",
      "         6.0       0.00      0.00      0.00         3\n",
      "         7.0       0.75      0.67      0.71         9\n",
      "\n",
      "    accuracy                           0.62        65\n",
      "   macro avg       0.32      0.35      0.33        65\n",
      "weighted avg       0.53      0.62      0.57        65\n",
      "\n",
      "k value= 15\n",
      "              precision    recall  f1-score   support\n",
      "\n",
      "         1.0       0.57      0.62      0.59        21\n",
      "         2.0       0.61      0.77      0.68        26\n",
      "         3.0       0.00      0.00      0.00         2\n",
      "         5.0       0.00      0.00      0.00         4\n",
      "         6.0       0.00      0.00      0.00         3\n",
      "         7.0       0.67      0.67      0.67         9\n",
      "\n",
      "    accuracy                           0.60        65\n",
      "   macro avg       0.31      0.34      0.32        65\n",
      "weighted avg       0.52      0.60      0.55        65\n",
      "\n",
      "k value= 17\n",
      "              precision    recall  f1-score   support\n",
      "\n",
      "         1.0       0.54      0.62      0.58        21\n",
      "         2.0       0.61      0.77      0.68        26\n",
      "         3.0       0.00      0.00      0.00         2\n",
      "         5.0       0.00      0.00      0.00         4\n",
      "         6.0       0.00      0.00      0.00         3\n",
      "         7.0       0.75      0.67      0.71         9\n",
      "\n",
      "    accuracy                           0.60        65\n",
      "   macro avg       0.32      0.34      0.33        65\n",
      "weighted avg       0.52      0.60      0.56        65\n",
      "\n",
      "k value= 19\n",
      "              precision    recall  f1-score   support\n",
      "\n",
      "         1.0       0.57      0.62      0.59        21\n",
      "         2.0       0.64      0.81      0.71        26\n",
      "         3.0       0.00      0.00      0.00         2\n",
      "         5.0       0.00      0.00      0.00         4\n",
      "         6.0       0.00      0.00      0.00         3\n",
      "         7.0       0.78      0.78      0.78         9\n",
      "\n",
      "    accuracy                           0.63        65\n",
      "   macro avg       0.33      0.37      0.35        65\n",
      "weighted avg       0.54      0.63      0.58        65\n",
      "\n",
      "k value= 21\n",
      "              precision    recall  f1-score   support\n",
      "\n",
      "         1.0       0.50      0.67      0.57        21\n",
      "         2.0       0.66      0.73      0.69        26\n",
      "         3.0       0.00      0.00      0.00         2\n",
      "         5.0       0.00      0.00      0.00         4\n",
      "         6.0       0.00      0.00      0.00         3\n",
      "         7.0       0.75      0.67      0.71         9\n",
      "\n",
      "    accuracy                           0.60        65\n",
      "   macro avg       0.32      0.34      0.33        65\n",
      "weighted avg       0.53      0.60      0.56        65\n",
      "\n",
      "k value= 23\n",
      "              precision    recall  f1-score   support\n",
      "\n",
      "         1.0       0.50      0.67      0.57        21\n",
      "         2.0       0.64      0.69      0.67        26\n",
      "         3.0       0.00      0.00      0.00         2\n",
      "         5.0       0.00      0.00      0.00         4\n",
      "         6.0       0.00      0.00      0.00         3\n",
      "         7.0       0.67      0.67      0.67         9\n",
      "\n",
      "    accuracy                           0.58        65\n",
      "   macro avg       0.30      0.34      0.32        65\n",
      "weighted avg       0.51      0.58      0.54        65\n",
      "\n",
      "k value= 25\n",
      "              precision    recall  f1-score   support\n",
      "\n",
      "         1.0       0.47      0.67      0.55        21\n",
      "         2.0       0.62      0.62      0.62        26\n",
      "         3.0       0.00      0.00      0.00         2\n",
      "         5.0       0.00      0.00      0.00         4\n",
      "         6.0       0.00      0.00      0.00         3\n",
      "         7.0       0.67      0.67      0.67         9\n",
      "\n",
      "    accuracy                           0.55        65\n",
      "   macro avg       0.29      0.32      0.31        65\n",
      "weighted avg       0.49      0.55      0.52        65\n",
      "\n",
      "k value= 27\n",
      "              precision    recall  f1-score   support\n",
      "\n",
      "         1.0       0.47      0.67      0.55        21\n",
      "         2.0       0.62      0.62      0.62        26\n",
      "         3.0       0.00      0.00      0.00         2\n",
      "         5.0       0.00      0.00      0.00         4\n",
      "         6.0       0.00      0.00      0.00         3\n",
      "         7.0       0.67      0.67      0.67         9\n",
      "\n",
      "    accuracy                           0.55        65\n",
      "   macro avg       0.29      0.32      0.31        65\n",
      "weighted avg       0.49      0.55      0.52        65\n",
      "\n",
      "k value= 29\n",
      "              precision    recall  f1-score   support\n",
      "\n",
      "         1.0       0.50      0.71      0.59        21\n",
      "         2.0       0.60      0.58      0.59        26\n",
      "         3.0       0.00      0.00      0.00         2\n",
      "         5.0       0.00      0.00      0.00         4\n",
      "         6.0       0.00      0.00      0.00         3\n",
      "         7.0       0.60      0.67      0.63         9\n",
      "\n",
      "    accuracy                           0.55        65\n",
      "   macro avg       0.28      0.33      0.30        65\n",
      "weighted avg       0.48      0.55      0.51        65\n",
      "\n"
     ]
    },
    {
     "name": "stdout",
     "output_type": "stream",
     "text": [
      "k value= 31\n",
      "              precision    recall  f1-score   support\n",
      "\n",
      "         1.0       0.47      0.71      0.57        21\n",
      "         2.0       0.64      0.54      0.58        26\n",
      "         3.0       0.00      0.00      0.00         2\n",
      "         5.0       0.00      0.00      0.00         4\n",
      "         6.0       0.00      0.00      0.00         3\n",
      "         7.0       0.55      0.67      0.60         9\n",
      "\n",
      "    accuracy                           0.54        65\n",
      "   macro avg       0.28      0.32      0.29        65\n",
      "weighted avg       0.48      0.54      0.50        65\n",
      "\n",
      "k value= 33\n",
      "              precision    recall  f1-score   support\n",
      "\n",
      "         1.0       0.47      0.71      0.57        21\n",
      "         2.0       0.59      0.50      0.54        26\n",
      "         3.0       0.00      0.00      0.00         2\n",
      "         5.0       0.00      0.00      0.00         4\n",
      "         6.0       0.00      0.00      0.00         3\n",
      "         7.0       0.55      0.67      0.60         9\n",
      "\n",
      "    accuracy                           0.52        65\n",
      "   macro avg       0.27      0.31      0.28        65\n",
      "weighted avg       0.46      0.52      0.48        65\n",
      "\n",
      "k value= 35\n",
      "              precision    recall  f1-score   support\n",
      "\n",
      "         1.0       0.47      0.71      0.57        21\n",
      "         2.0       0.59      0.50      0.54        26\n",
      "         3.0       0.00      0.00      0.00         2\n",
      "         5.0       0.00      0.00      0.00         4\n",
      "         6.0       0.00      0.00      0.00         3\n",
      "         7.0       0.55      0.67      0.60         9\n",
      "\n",
      "    accuracy                           0.52        65\n",
      "   macro avg       0.27      0.31      0.28        65\n",
      "weighted avg       0.46      0.52      0.48        65\n",
      "\n",
      "k value= 37\n",
      "              precision    recall  f1-score   support\n",
      "\n",
      "         1.0       0.46      0.76      0.57        21\n",
      "         2.0       0.63      0.46      0.53        26\n",
      "         3.0       0.00      0.00      0.00         2\n",
      "         5.0       0.00      0.00      0.00         4\n",
      "         6.0       0.00      0.00      0.00         3\n",
      "         7.0       0.55      0.67      0.60         9\n",
      "\n",
      "    accuracy                           0.52        65\n",
      "   macro avg       0.27      0.32      0.28        65\n",
      "weighted avg       0.48      0.52      0.48        65\n",
      "\n",
      "k value= 39\n",
      "              precision    recall  f1-score   support\n",
      "\n",
      "         1.0       0.46      0.76      0.57        21\n",
      "         2.0       0.63      0.46      0.53        26\n",
      "         3.0       0.00      0.00      0.00         2\n",
      "         5.0       0.00      0.00      0.00         4\n",
      "         6.0       0.00      0.00      0.00         3\n",
      "         7.0       0.55      0.67      0.60         9\n",
      "\n",
      "    accuracy                           0.52        65\n",
      "   macro avg       0.27      0.32      0.28        65\n",
      "weighted avg       0.48      0.52      0.48        65\n",
      "\n"
     ]
    }
   ],
   "source": [
    "import matplotlib.pyplot as plt\n",
    "%matplotlib inline\n",
    "k_range = [2*i+1 for i in range(0,20)]\n",
    "k_scores = []\n",
    "for k in k_range:\n",
    "    knn = KNeighborsClassifier(n_neighbors=k)\n",
    "    scores = cross_val_score(knn,x_train,y_train,cv = 11)\n",
    "    k_scores.append(scores.mean())\n",
    "    print(\"k value=\",k)\n",
    "    model = KNeighborsClassifier(n_neighbors=k)\n",
    "    model.fit(x_train,y_train)\n",
    "    pred = model.predict(x_test)\n",
    "    print(classification_report(y_test,pred))"
   ]
  },
  {
   "cell_type": "code",
   "execution_count": 49,
   "id": "66cb63aa",
   "metadata": {},
   "outputs": [
    {
     "data": {
      "image/png": "[encoded data removed]",
      "text/plain": [
       "<Figure size 640x480 with 1 Axes>"
      ]
     },
     "metadata": {},
     "output_type": "display_data"
    }
   ],
   "source": [
    "plt.bar(k_range,k_scores)\n",
    "plt.plot(k_range,k_scores,color =\"green\")\n",
    "plt.xlabel('value of k for knn')\n",
    "plt.ylabel('cross-validation Accuracy')\n",
    "plt.xticks(k_range)\n",
    "plt.show()"
   ]
  },
  {
   "cell_type": "code",
   "execution_count": 40,
   "id": "a30512ca",
   "metadata": {},
   "outputs": [
    {
     "data": {
      "text/plain": [
       "0"
      ]
     },
     "execution_count": 40,
     "metadata": {},
     "output_type": "execute_result"
    }
   ],
   "source": [
    "np.argmax(k_scores)"
   ]
  },
  {
   "cell_type": "code",
   "execution_count": 41,
   "id": "1561c3fc",
   "metadata": {},
   "outputs": [
    {
     "data": {
      "text/plain": [
       "1"
      ]
     },
     "execution_count": 41,
     "metadata": {},
     "output_type": "execute_result"
    }
   ],
   "source": [
    "k_range[0]"
   ]
  },
  {
   "cell_type": "code",
   "execution_count": 42,
   "id": "9e8bebfd",
   "metadata": {},
   "outputs": [
    {
     "data": {
      "text/plain": [
       "0.6663336663336663"
      ]
     },
     "execution_count": 42,
     "metadata": {},
     "output_type": "execute_result"
    }
   ],
   "source": [
    "k_scores[1]"
   ]
  },
  {
   "cell_type": "code",
   "execution_count": 43,
   "id": "76fe16ae",
   "metadata": {},
   "outputs": [
    {
     "name": "stdout",
     "output_type": "stream",
     "text": [
      "              precision    recall  f1-score   support\n",
      "\n",
      "         1.0       0.72      0.62      0.67        21\n",
      "         2.0       0.73      0.73      0.73        26\n",
      "         3.0       0.00      0.00      0.00         2\n",
      "         5.0       0.80      1.00      0.89         4\n",
      "         6.0       0.75      1.00      0.86         3\n",
      "         7.0       1.00      0.78      0.88         9\n",
      "\n",
      "    accuracy                           0.71        65\n",
      "   macro avg       0.67      0.69      0.67        65\n",
      "weighted avg       0.75      0.71      0.72        65\n",
      "\n"
     ]
    }
   ],
   "source": [
    "model = KNeighborsClassifier(n_neighbors= 1)\n",
    "model.fit(x_train,y_train)\n",
    "pred = model.predict(x_test)\n",
    "accuracy_score(pred,y_test)\n",
    "print(classification_report(y_test,pred))"
   ]
  },
  {
   "cell_type": "code",
   "execution_count": null,
   "id": "8fb70138",
   "metadata": {},
   "outputs": [],
   "source": []
  }
 ],
 "metadata": {
  "kernelspec": {
   "display_name": "Python 3 (ipykernel)",
   "language": "python",
   "name": "python3"
  },
  "language_info": {
   "codemirror_mode": {
    "name": "ipython",
    "version": 3
   },
   "file_extension": ".py",
   "mimetype": "text/x-python",
   "name": "python",
   "nbconvert_exporter": "python",
   "pygments_lexer": "ipython3",
   "version": "3.9.13"
  }
 },
 "nbformat": 4,
 "nbformat_minor": 5
}
